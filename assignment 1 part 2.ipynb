{
 "cells": [
  {
   "cell_type": "markdown",
   "id": "5c02fea1",
   "metadata": {},
   "source": [
    "# Python Basics - Assignment #1 \n",
    "Part 2 - (Questions 4 - .....)"
   ]
  },
  {
   "cell_type": "markdown",
   "id": "26f55884",
   "metadata": {},
   "source": [
    "### Submitted by Emmanuel Raj (DSFS Batch 160)"
   ]
  },
  {
   "cell_type": "markdown",
   "id": "e27b1f2c",
   "metadata": {},
   "source": [
    "### 4. What is an expression made up of?  What do all expressions do?"
   ]
  },
  {
   "cell_type": "raw",
   "id": "bf8c1563",
   "metadata": {},
   "source": [
    "Expressions consits of variables, operators that python can evaluate into values or plain values or a combination of all of these.\n",
    "\n",
    "It can also be a funcion call or a combination of all"
   ]
  },
  {
   "cell_type": "code",
   "execution_count": 54,
   "id": "c1d25809",
   "metadata": {},
   "outputs": [
    {
     "data": {
      "text/plain": [
       "3.142857142857143"
      ]
     },
     "execution_count": 54,
     "metadata": {},
     "output_type": "execute_result"
    }
   ],
   "source": [
    "#Examples\n",
    "\n",
    "pi = 22/7\n",
    "# this is an arithmetic operation to deduce the value of pi\n",
    "\n",
    "pi"
   ]
  },
  {
   "cell_type": "code",
   "execution_count": 55,
   "id": "e5430eb5",
   "metadata": {},
   "outputs": [
    {
     "data": {
      "text/plain": [
       "31.428571428571427"
      ]
     },
     "execution_count": 55,
     "metadata": {},
     "output_type": "execute_result"
    }
   ],
   "source": [
    "#Examples\n",
    "\n",
    "radius = 5\n",
    "circumference = 2 * pi * radius\n",
    "# this is a expression to calculate a mathematical value\n",
    "\n",
    "circumference"
   ]
  },
  {
   "cell_type": "code",
   "execution_count": 56,
   "id": "3d862f7a",
   "metadata": {},
   "outputs": [
    {
     "data": {
      "text/plain": [
       "9"
      ]
     },
     "execution_count": 56,
     "metadata": {},
     "output_type": "execute_result"
    }
   ],
   "source": [
    "#Examples\n",
    "\n",
    "len(\"perimeter\")\n",
    "# this is to evaluate the lenght of the string "
   ]
  },
  {
   "cell_type": "raw",
   "id": "3c074c76",
   "metadata": {},
   "source": [
    "As seen in the above examples, expressions are the right hand part that are evaluated by python interpreter that gives a final value."
   ]
  },
  {
   "cell_type": "markdown",
   "id": "fd3d9b76",
   "metadata": {},
   "source": [
    "# \n",
    "### 5. This assignment statements, like spam = 10. What is the difference between an expression and a statement?"
   ]
  },
  {
   "cell_type": "raw",
   "id": "fb28b3e8",
   "metadata": {},
   "source": [
    "Simillar to any language spoken between humans, python is also language (aka programming language) made up of statements that can be understood by \"Python interpreter\".\n",
    "\n",
    "In other words statements are any code that python can understand and execute\n",
    "\n",
    "All of the keywords in python in combination with expressions make up a statement\n",
    "\n",
    "In the given example spam = 10, that consists of a variable, an operator and a value make up a meaningful statement that assigns a the value 10 to the variable spam. Hence the name assignment statement\n",
    "\n",
    "where\n",
    "varable is spam\n",
    "operator is = (equal to)\n",
    "value is 10\n",
    "\n"
   ]
  },
  {
   "cell_type": "code",
   "execution_count": 57,
   "id": "1891a664",
   "metadata": {},
   "outputs": [
    {
     "name": "stdout",
     "output_type": "stream",
     "text": [
      "10.0\n"
     ]
    }
   ],
   "source": [
    "#In the above example the value can be replaced by an expression that will be evaluated by python\n",
    "\n",
    "spam = (100/20)*2\n",
    "print(spam)"
   ]
  },
  {
   "cell_type": "raw",
   "id": "5c583c0c",
   "metadata": {},
   "source": [
    "In the modified example the right hand side is an expression and the whole line is a statement\n",
    "i.e.\n",
    "(100/20)*2  is an expression\n",
    "spam = (100/20)*2 is a statmemt"
   ]
  },
  {
   "cell_type": "markdown",
   "id": "9eb0bcae",
   "metadata": {},
   "source": [
    "# \n",
    "### 6.  After running the following code, what does the variable bacon contain?"
   ]
  },
  {
   "cell_type": "raw",
   "id": "a0de76e4",
   "metadata": {},
   "source": [
    "bacon = 22\n",
    "bacon + 1"
   ]
  },
  {
   "cell_type": "raw",
   "id": "be60a14d",
   "metadata": {},
   "source": [
    "After running the code the value of bacon is still 22. The reson the second line is an expresson that python only evaluates. \n",
    "It does not modify the existing value of bacon."
   ]
  },
  {
   "cell_type": "code",
   "execution_count": 58,
   "id": "7a49070d",
   "metadata": {},
   "outputs": [
    {
     "data": {
      "text/plain": [
       "23"
      ]
     },
     "execution_count": 58,
     "metadata": {},
     "output_type": "execute_result"
    }
   ],
   "source": [
    "# let's test this\n",
    "\n",
    "bacon = 22\n",
    "bacon + 1"
   ]
  },
  {
   "cell_type": "code",
   "execution_count": 59,
   "id": "167c6a9d",
   "metadata": {},
   "outputs": [
    {
     "name": "stdout",
     "output_type": "stream",
     "text": [
      "22\n"
     ]
    }
   ],
   "source": [
    "print(bacon)"
   ]
  },
  {
   "cell_type": "markdown",
   "id": "2d597999",
   "metadata": {},
   "source": [
    "# \n",
    "### 7.  What should the values of the following two terms be?"
   ]
  },
  {
   "cell_type": "raw",
   "id": "515cfe3b",
   "metadata": {},
   "source": [
    "'spam' + 'spamspam'\n",
    "'spam' * 3"
   ]
  },
  {
   "cell_type": "raw",
   "id": "40d8e570",
   "metadata": {},
   "source": [
    "the value of both of these will be 'spamspamspam'\n",
    "\n",
    "the first one concatenates 'spam' and 'spamspam'\n",
    "the second one concatenates 'spam' three times"
   ]
  },
  {
   "cell_type": "code",
   "execution_count": 60,
   "id": "586e405f",
   "metadata": {},
   "outputs": [
    {
     "data": {
      "text/plain": [
       "'spamspamspam'"
      ]
     },
     "execution_count": 60,
     "metadata": {},
     "output_type": "execute_result"
    }
   ],
   "source": [
    "# let's test this\n",
    "\n",
    "'spam' + 'spamspam'"
   ]
  },
  {
   "cell_type": "code",
   "execution_count": 61,
   "id": "15224b61",
   "metadata": {},
   "outputs": [
    {
     "data": {
      "text/plain": [
       "'spamspamspam'"
      ]
     },
     "execution_count": 61,
     "metadata": {},
     "output_type": "execute_result"
    }
   ],
   "source": [
    "'spam' * 3"
   ]
  },
  {
   "cell_type": "markdown",
   "id": "07f69b24",
   "metadata": {},
   "source": [
    "# \n",
    "### 8.  Why is eggs a valid variable name while 100 is invalid"
   ]
  },
  {
   "cell_type": "raw",
   "id": "19d3f373",
   "metadata": {},
   "source": [
    "By defenition a varibale name in python can be...\n",
    "1. any length \n",
    "2. and can consist of uppercase and lowercase letters (A-Z, a-z) \n",
    "3. and can contain the underscore character (_)\n",
    "4. and can contain digits (0-9)\n",
    "5. with the exception that it cannot begin with a digit\n",
    "\n",
    "Hence by this rule \n",
    "100 is an invalid varibale name\n",
    "Wheras eggs is a valid variable name"
   ]
  },
  {
   "cell_type": "markdown",
   "id": "00e318b3",
   "metadata": {},
   "source": [
    "# \n",
    "### 9.  What three functions can be used to get the integer, floating-point number, or string version of a value?"
   ]
  },
  {
   "cell_type": "raw",
   "id": "e79f5b5e",
   "metadata": {},
   "source": [
    "The following 3 functions are called type cast functions which helps to convert a number to string and vice versa (provided the string is in form of a number)\n",
    "\n",
    "int()\n",
    "float()\n",
    "str()"
   ]
  },
  {
   "cell_type": "code",
   "execution_count": 62,
   "id": "1f4f3ace",
   "metadata": {},
   "outputs": [
    {
     "name": "stdout",
     "output_type": "stream",
     "text": [
      "123456  is  <class 'str'>\n",
      "123456  is  <class 'int'>\n"
     ]
    }
   ],
   "source": [
    "# for example - string to integer conversion\n",
    "\n",
    "a=\"123456\"\n",
    "print(a, \" is \",type(a))\n",
    "a=int(a)\n",
    "print(a, \" is \",type(a))"
   ]
  },
  {
   "cell_type": "code",
   "execution_count": 63,
   "id": "66d33905",
   "metadata": {},
   "outputs": [
    {
     "name": "stdout",
     "output_type": "stream",
     "text": [
      "99.99  is  <class 'str'>\n",
      "99.99  is  <class 'float'>\n"
     ]
    }
   ],
   "source": [
    "# for example - string to float conversion\n",
    "\n",
    "b=\"99.99\"\n",
    "print(b, \" is \",type(b))\n",
    "b=float(b)\n",
    "print(b, \" is \",type(b))"
   ]
  },
  {
   "cell_type": "code",
   "execution_count": 64,
   "id": "94bc7dcb",
   "metadata": {},
   "outputs": [
    {
     "name": "stdout",
     "output_type": "stream",
     "text": [
      "2000  is  <class 'int'>\n",
      "2000  is  <class 'str'>\n"
     ]
    }
   ],
   "source": [
    "# for example - Integer to string conversion\n",
    "\n",
    "d=2000\n",
    "print(d, \" is \",type(d))\n",
    "d=str(d)\n",
    "print(d, \" is \",type(d))"
   ]
  },
  {
   "cell_type": "code",
   "execution_count": 65,
   "id": "c74c8ff2",
   "metadata": {},
   "outputs": [
    {
     "name": "stdout",
     "output_type": "stream",
     "text": [
      "3.143  is  <class 'float'>\n",
      "3.143  is  <class 'str'>\n"
     ]
    }
   ],
   "source": [
    "# for example - Float to string conversion\n",
    "\n",
    "e=3.143\n",
    "print(e, \" is \",type(e))\n",
    "e=str(e)\n",
    "print(e, \" is \",type(e))"
   ]
  },
  {
   "cell_type": "markdown",
   "id": "28a4fee3",
   "metadata": {},
   "source": [
    "# \n",
    "### 10.  Why does this expression cause an error? How can you fix it?"
   ]
  },
  {
   "cell_type": "raw",
   "id": "aa48afc8",
   "metadata": {},
   "source": [
    "'I have eaten ' + 99 + ' burritos.'"
   ]
  },
  {
   "cell_type": "raw",
   "id": "40966a02",
   "metadata": {},
   "source": [
    "In the given expression, 99 is an integer  while the other 2 operands are strings. \n",
    "we cannot add string to integer  (or) concatenate an integer to string"
   ]
  },
  {
   "cell_type": "code",
   "execution_count": 66,
   "id": "59344565",
   "metadata": {},
   "outputs": [
    {
     "ename": "TypeError",
     "evalue": "can only concatenate str (not \"int\") to str",
     "output_type": "error",
     "traceback": [
      "\u001b[1;31m---------------------------------------------------------------------------\u001b[0m",
      "\u001b[1;31mTypeError\u001b[0m                                 Traceback (most recent call last)",
      "\u001b[1;32m~\\AppData\\Local\\Temp/ipykernel_30380/3939661699.py\u001b[0m in \u001b[0;36m<module>\u001b[1;34m\u001b[0m\n\u001b[0;32m      1\u001b[0m \u001b[1;31m# lets execute this code as is with error\u001b[0m\u001b[1;33m\u001b[0m\u001b[1;33m\u001b[0m\u001b[0m\n\u001b[0;32m      2\u001b[0m \u001b[1;33m\u001b[0m\u001b[0m\n\u001b[1;32m----> 3\u001b[1;33m \u001b[1;34m'I have eaten '\u001b[0m \u001b[1;33m+\u001b[0m \u001b[1;36m99\u001b[0m \u001b[1;33m+\u001b[0m \u001b[1;34m' burritos.'\u001b[0m\u001b[1;33m\u001b[0m\u001b[1;33m\u001b[0m\u001b[0m\n\u001b[0m",
      "\u001b[1;31mTypeError\u001b[0m: can only concatenate str (not \"int\") to str"
     ]
    }
   ],
   "source": [
    "# lets execute this code as is with error\n",
    "\n",
    "'I have eaten ' + 99 + ' burritos.'"
   ]
  },
  {
   "cell_type": "code",
   "execution_count": 67,
   "id": "d9700ac2",
   "metadata": {},
   "outputs": [],
   "source": [
    "# now lets fix this by using typecasting function and execute"
   ]
  },
  {
   "cell_type": "code",
   "execution_count": 68,
   "id": "d8656f23",
   "metadata": {},
   "outputs": [
    {
     "data": {
      "text/plain": [
       "'I have eaten 99 burritos.'"
      ]
     },
     "execution_count": 68,
     "metadata": {},
     "output_type": "execute_result"
    }
   ],
   "source": [
    "'I have eaten ' + str(99) + ' burritos.'"
   ]
  },
  {
   "cell_type": "code",
   "execution_count": null,
   "id": "f0010771",
   "metadata": {},
   "outputs": [],
   "source": []
  },
  {
   "cell_type": "code",
   "execution_count": null,
   "id": "c3823c49",
   "metadata": {},
   "outputs": [],
   "source": []
  },
  {
   "cell_type": "code",
   "execution_count": null,
   "id": "389c1bb0",
   "metadata": {},
   "outputs": [],
   "source": []
  }
 ],
 "metadata": {
  "kernelspec": {
   "display_name": "Python 3 (ipykernel)",
   "language": "python",
   "name": "python3"
  },
  "language_info": {
   "codemirror_mode": {
    "name": "ipython",
    "version": 3
   },
   "file_extension": ".py",
   "mimetype": "text/x-python",
   "name": "python",
   "nbconvert_exporter": "python",
   "pygments_lexer": "ipython3",
   "version": "3.9.7"
  }
 },
 "nbformat": 4,
 "nbformat_minor": 5
}
