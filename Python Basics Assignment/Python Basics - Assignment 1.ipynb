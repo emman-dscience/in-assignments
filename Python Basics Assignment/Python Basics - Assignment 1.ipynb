{
 "cells": [
  {
   "cell_type": "markdown",
   "id": "18d95374",
   "metadata": {},
   "source": [
    "# Python Basics - Assignment 1 "
   ]
  },
  {
   "cell_type": "markdown",
   "id": "9bc01b4f",
   "metadata": {},
   "source": [
    "### Submitted by Emmanuel Raj (DSFS Batch 2)"
   ]
  },
  {
   "cell_type": "markdown",
   "id": "7b19792c",
   "metadata": {},
   "source": [
    "#### Assignment Objective: \n",
    "\n",
    "1. I treat this assignment as test of  what I have learnt from iNeuron classes and in addition to what i learn from additional resources to reinforce my learning. \n",
    "\n",
    "\n",
    " 2. I also treat the assignment to demonstrate my undertanding on the concepts asked in the question and provide any additional concepts i have learnt so far. I may be wrong with my answers based on the limited knowledge i have gained so far. Please provide feedback on where and why my answers are incorrect. It will help me to get clear understanding"
   ]
  },
  {
   "cell_type": "markdown",
   "id": "e4fdd915",
   "metadata": {},
   "source": [
    "### 1. In the below elements which of them are values or an expression? "
   ]
  },
  {
   "cell_type": "raw",
   "id": "7ff09a98",
   "metadata": {},
   "source": [
    "*        This is multiplication operator"
   ]
  },
  {
   "cell_type": "raw",
   "id": "8a22eeac",
   "metadata": {},
   "source": [
    "'hello'  This is a string"
   ]
  },
  {
   "cell_type": "raw",
   "id": "71751de3",
   "metadata": {},
   "source": [
    "-87.8    This is a float"
   ]
  },
  {
   "cell_type": "raw",
   "id": "34bf66ec",
   "metadata": {},
   "source": [
    "-        This is subtraction operator"
   ]
  },
  {
   "cell_type": "raw",
   "id": "daa2c97b",
   "metadata": {},
   "source": [
    "/        This is a division operator"
   ]
  },
  {
   "cell_type": "raw",
   "id": "964a4d3f",
   "metadata": {},
   "source": [
    "+\t     This is addition operator in a mathematical expression. \n",
    "         It also has usage  as a concatenation operator when used with strings.        "
   ]
  },
  {
   "cell_type": "raw",
   "id": "4c4a7239",
   "metadata": {},
   "source": [
    "6        Tthis is an integer"
   ]
  },
  {
   "cell_type": "markdown",
   "id": "217f348e",
   "metadata": {},
   "source": [
    "# \n",
    "###  2. What is the difference between string and variable?"
   ]
  },
  {
   "cell_type": "markdown",
   "id": "80362917",
   "metadata": {},
   "source": [
    "#### 2.1 VARIABLE"
   ]
  },
  {
   "cell_type": "raw",
   "id": "3148d963",
   "metadata": {},
   "source": [
    "Variable is a placeholder in memory that can hold a data-value. \n",
    "This value can be of many types."
   ]
  },
  {
   "cell_type": "raw",
   "id": "3005f1d0",
   "metadata": {},
   "source": [
    "Unlike other programming language, in Python variables need not be declared explicitly before using it. \n",
    "Python declares the variable the first time it encounters the variable. \n",
    "And almost everytime the variable declaration has the \"=\" assignment operator\n"
   ]
  },
  {
   "cell_type": "code",
   "execution_count": 220,
   "id": "d4b6fa87",
   "metadata": {},
   "outputs": [],
   "source": [
    "#Examples of varibales of different datatypes\n",
    "\n",
    "a=64\n",
    "b=25.6\n",
    "c=1+28j\n",
    "s= \"I am learning Python from iNeuron\"\n",
    "l=[] #emplty list\n",
    "l1 = [\"Tesla\", \"Airplane\", \"Alexa\", \"C++\", \"tesla\", 100, 3.14, [1,2,3]] # Hetrogenous list of values and can have duplicates"
   ]
  },
  {
   "cell_type": "code",
   "execution_count": 221,
   "id": "82f4f606",
   "metadata": {},
   "outputs": [
    {
     "name": "stdout",
     "output_type": "stream",
     "text": [
      "64 , 25.6 , (1+28j) , [] , ['Tesla', 'Airplane', 'Alexa', 'C++', 'tesla', 100, 3.14, [1, 2, 3]]\n"
     ]
    }
   ],
   "source": [
    "print(a,\",\",b,\",\",c, \",\",l, \",\",l1)"
   ]
  },
  {
   "cell_type": "markdown",
   "id": "cbf67858",
   "metadata": {},
   "source": [
    "#### 2.1 STRING"
   ]
  },
  {
   "cell_type": "raw",
   "id": "58020d77",
   "metadata": {},
   "source": [
    "String is a type of data (datatype) consisting of a sequence of characters.\n",
    "Even a single character is considered as a string\n",
    "In python there is no char (character) datatype like in other programming languages"
   ]
  },
  {
   "cell_type": "raw",
   "id": "e4b3855f",
   "metadata": {},
   "source": [
    "In python we can specify string within \"\" (double quotes) or '' (single quotes)"
   ]
  },
  {
   "cell_type": "code",
   "execution_count": 222,
   "id": "9d53625f",
   "metadata": {},
   "outputs": [],
   "source": [
    "# Example of string\n",
    "s1 = \"this is a string\"\n",
    "s2 = 'this is also a string'\n",
    "\n",
    "# Example of single character string\n",
    "s3 = \"x\""
   ]
  },
  {
   "cell_type": "code",
   "execution_count": 223,
   "id": "d458468f",
   "metadata": {},
   "outputs": [
    {
     "name": "stdout",
     "output_type": "stream",
     "text": [
      "this is a string , x , this is also a string\n"
     ]
    }
   ],
   "source": [
    "print(s1,\",\",s3,\",\",s2)"
   ]
  },
  {
   "cell_type": "raw",
   "id": "88c5b74f",
   "metadata": {},
   "source": [
    "So far I have understood that each datatype is an object in python. and each object type will have its own functions."
   ]
  },
  {
   "cell_type": "markdown",
   "id": "94190dfe",
   "metadata": {},
   "source": [
    "# \n",
    "### 3. Describe three different data types"
   ]
  },
  {
   "cell_type": "markdown",
   "id": "6454864e",
   "metadata": {},
   "source": [
    "#### 3.1. Numeric Datatype such as integer, float and complex numbe"
   ]
  },
  {
   "cell_type": "markdown",
   "id": "9cfa2fa3",
   "metadata": {},
   "source": [
    "(i). Integers"
   ]
  },
  {
   "cell_type": "raw",
   "id": "4384d926",
   "metadata": {},
   "source": [
    "This datatype is used to store whole numbers without decimal values\n",
    "And integers includes both +ve and -ve numbers and including 0 (zero)"
   ]
  },
  {
   "cell_type": "code",
   "execution_count": 224,
   "id": "ca949974",
   "metadata": {},
   "outputs": [],
   "source": [
    "#Examples of integer\n",
    "\n",
    "a= -100\n",
    "b= 0\n",
    "C= 25"
   ]
  },
  {
   "cell_type": "code",
   "execution_count": 225,
   "id": "68ca3100",
   "metadata": {},
   "outputs": [
    {
     "name": "stdout",
     "output_type": "stream",
     "text": [
      "<class 'int'>\n"
     ]
    }
   ],
   "source": [
    "print(type(a))"
   ]
  },
  {
   "cell_type": "code",
   "execution_count": 226,
   "id": "4cb8fe0e",
   "metadata": {},
   "outputs": [
    {
     "name": "stdout",
     "output_type": "stream",
     "text": [
      "<class 'int'>\n"
     ]
    }
   ],
   "source": [
    "print(type(a))"
   ]
  },
  {
   "cell_type": "code",
   "execution_count": 227,
   "id": "c4bd81de",
   "metadata": {},
   "outputs": [
    {
     "name": "stdout",
     "output_type": "stream",
     "text": [
      "<class 'int'>\n"
     ]
    }
   ],
   "source": [
    "print(type(a))"
   ]
  },
  {
   "cell_type": "markdown",
   "id": "3f3b9879",
   "metadata": {},
   "source": [
    "(ii). Float"
   ]
  },
  {
   "cell_type": "raw",
   "id": "1bbb6a8f",
   "metadata": {},
   "source": [
    "Float is a data type that can store decimal values and they too can have both +ve and -ve values\n",
    "In other programming languages float may be refered to as real"
   ]
  },
  {
   "cell_type": "code",
   "execution_count": 228,
   "id": "3c55e590",
   "metadata": {},
   "outputs": [],
   "source": [
    "#Examples of float\n",
    "\n",
    "p=4.4\n",
    "q=-3.2\n",
    "r=0.0"
   ]
  },
  {
   "cell_type": "code",
   "execution_count": 229,
   "id": "d64d2572",
   "metadata": {},
   "outputs": [
    {
     "name": "stdout",
     "output_type": "stream",
     "text": [
      "<class 'float'>\n"
     ]
    }
   ],
   "source": [
    "print(type(p))"
   ]
  },
  {
   "cell_type": "code",
   "execution_count": 230,
   "id": "8db792c5",
   "metadata": {},
   "outputs": [
    {
     "name": "stdout",
     "output_type": "stream",
     "text": [
      "<class 'float'>\n"
     ]
    }
   ],
   "source": [
    "print(type(q))"
   ]
  },
  {
   "cell_type": "code",
   "execution_count": 231,
   "id": "9b54bcc2",
   "metadata": {},
   "outputs": [
    {
     "name": "stdout",
     "output_type": "stream",
     "text": [
      "<class 'float'>\n"
     ]
    }
   ],
   "source": [
    "print(type(r))"
   ]
  },
  {
   "cell_type": "markdown",
   "id": "a4879045",
   "metadata": {},
   "source": [
    "(iii). Complex numbers"
   ]
  },
  {
   "cell_type": "raw",
   "id": "df5135af",
   "metadata": {},
   "source": [
    "Complex data type is one has imaginary number component\n",
    "It is written in the form of A+Bi\n",
    "where A and B are integer or float\n",
    "it can also have only imaginary number part"
   ]
  },
  {
   "cell_type": "raw",
   "id": "dc45ca43",
   "metadata": {},
   "source": [
    "NOte: Imaginary number is  sq.root of -1 and written as i as per mathematical principles\n",
    "In Python the imaginary is wrriten as j"
   ]
  },
  {
   "cell_type": "code",
   "execution_count": 232,
   "id": "b087d4bc",
   "metadata": {},
   "outputs": [
    {
     "name": "stdout",
     "output_type": "stream",
     "text": [
      "<class 'complex'>\n"
     ]
    }
   ],
   "source": [
    "#Examples of complex data-type\n",
    "\n",
    "J= 8+2j\n",
    "\n",
    "print(type(J))"
   ]
  },
  {
   "cell_type": "code",
   "execution_count": 233,
   "id": "2cc60116",
   "metadata": {},
   "outputs": [
    {
     "name": "stdout",
     "output_type": "stream",
     "text": [
      "<class 'complex'>\n"
     ]
    }
   ],
   "source": [
    "#Examples of complex data-type with only imaginary part\n",
    "\n",
    "J= -6j\n",
    "\n",
    "print(type(J))"
   ]
  },
  {
   "cell_type": "markdown",
   "id": "a1201df4",
   "metadata": {},
   "source": [
    "#### 3.2 Strings"
   ]
  },
  {
   "cell_type": "raw",
   "id": "32fe36f2",
   "metadata": {},
   "source": [
    "For basic details of string datatype refer to answer under Q2."
   ]
  },
  {
   "cell_type": "raw",
   "id": "bd603d0e",
   "metadata": {},
   "source": [
    "In addition to basic details about the string datatyoe please find some more details of strings in Python"
   ]
  },
  {
   "cell_type": "code",
   "execution_count": 234,
   "id": "697c9b97",
   "metadata": {},
   "outputs": [
    {
     "data": {
      "text/plain": [
       "31"
      ]
     },
     "execution_count": 234,
     "metadata": {},
     "output_type": "execute_result"
    }
   ],
   "source": [
    "# the individual characters of a string can be accessed using index starting from 0\n",
    "\n",
    "s = \"this is an example of a string \"\n",
    "\n",
    "# Length of string\n",
    "len(s)\n"
   ]
  },
  {
   "cell_type": "code",
   "execution_count": 235,
   "id": "019c3d78",
   "metadata": {},
   "outputs": [
    {
     "data": {
      "text/plain": [
       "'example'"
      ]
     },
     "execution_count": 235,
     "metadata": {},
     "output_type": "execute_result"
    }
   ],
   "source": [
    "# display specific portion of string\n",
    "s[11:18]"
   ]
  },
  {
   "cell_type": "code",
   "execution_count": 236,
   "id": "23df34d4",
   "metadata": {},
   "outputs": [
    {
     "data": {
      "text/plain": [
       "'elpmaxe'"
      ]
     },
     "execution_count": 236,
     "metadata": {},
     "output_type": "execute_result"
    }
   ],
   "source": [
    "# the jump represents the number of charcters to jump and the direction. By default its is 1\n",
    "# Now this can be changed as\n",
    "s[17:10:-1]"
   ]
  },
  {
   "cell_type": "code",
   "execution_count": 237,
   "id": "b51ed8c8",
   "metadata": {},
   "outputs": [
    {
     "data": {
      "text/plain": [
       "' gnirts a fo elpmaxe na si siht'"
      ]
     },
     "execution_count": 237,
     "metadata": {},
     "output_type": "execute_result"
    }
   ],
   "source": [
    "# Note the 2nd parameter displays charcater at 1 index less than specfied.\n",
    "# In this example s[11:18] for my understanding I read it as \"from 11th upto 18 but not including \"\n",
    "\n",
    "# to reverse a string we may use the syntax\n",
    "s[::-1]"
   ]
  },
  {
   "cell_type": "code",
   "execution_count": 238,
   "id": "abddeaa9",
   "metadata": {},
   "outputs": [
    {
     "data": {
      "text/plain": [
       "'this is an example of a string'"
      ]
     },
     "execution_count": 238,
     "metadata": {},
     "output_type": "execute_result"
    }
   ],
   "source": [
    "# To remove the trailing whitespace we can use the strip() function\n",
    "s.strip()"
   ]
  },
  {
   "cell_type": "code",
   "execution_count": 239,
   "id": "5b10e40f",
   "metadata": {},
   "outputs": [],
   "source": [
    "# and to make the first letter capitalized we may use the title() function"
   ]
  },
  {
   "cell_type": "code",
   "execution_count": 240,
   "id": "0c110f11",
   "metadata": {},
   "outputs": [
    {
     "data": {
      "text/plain": [
       "'This is an example of a string '"
      ]
     },
     "execution_count": 240,
     "metadata": {},
     "output_type": "execute_result"
    }
   ],
   "source": [
    "s.capitalize()"
   ]
  },
  {
   "cell_type": "code",
   "execution_count": 241,
   "id": "520ee99e",
   "metadata": {},
   "outputs": [],
   "source": [
    "# There are many such string manipulation functions."
   ]
  },
  {
   "cell_type": "markdown",
   "id": "2c36ce71",
   "metadata": {},
   "source": [
    "#### 3.3 Datatype with a range / collections of values"
   ]
  },
  {
   "cell_type": "raw",
   "id": "100cbbae",
   "metadata": {},
   "source": [
    "Unlike the above mentioned datatypes, there are few datatypes in python that can store more the 1 data value.\n",
    "namely lits and tuple"
   ]
  },
  {
   "cell_type": "markdown",
   "id": "244119a6",
   "metadata": {},
   "source": [
    "i) Lists"
   ]
  },
  {
   "cell_type": "raw",
   "id": "97d110ef",
   "metadata": {},
   "source": [
    "list is a collection of data that are seperated by commas and is enclosed by suqare brackets"
   ]
  },
  {
   "cell_type": "code",
   "execution_count": 242,
   "id": "5b8389c7",
   "metadata": {
    "scrolled": true
   },
   "outputs": [
    {
     "name": "stdout",
     "output_type": "stream",
     "text": [
      "['Apple', 'Orange', 'Grape', 'Car', 'bike', 'van', 32, 64, 128, 256]\n"
     ]
    },
    {
     "data": {
      "text/plain": [
       "list"
      ]
     },
     "execution_count": 242,
     "metadata": {},
     "output_type": "execute_result"
    }
   ],
   "source": [
    "#Example\n",
    "l1 =[]\n",
    "l2 = ['Apple','Orange','Grape','Car','bike','van', 32, 64, 64+64, 256]\n",
    "print(l2)\n",
    "type(l1)"
   ]
  },
  {
   "cell_type": "raw",
   "id": "714c36fe",
   "metadata": {},
   "source": [
    "Like how we saw in string manipulation each data item can be accessed using index"
   ]
  },
  {
   "cell_type": "code",
   "execution_count": 243,
   "id": "c3959247",
   "metadata": {},
   "outputs": [
    {
     "name": "stdout",
     "output_type": "stream",
     "text": [
      "Orange\n",
      "['Apple', 'Orange', 'Grape', 'Car']\n"
     ]
    }
   ],
   "source": [
    "print(l2[1])\n",
    "print(l2[0:4])"
   ]
  },
  {
   "cell_type": "raw",
   "id": "8e0f76d6",
   "metadata": {},
   "source": [
    "In addition to accessing the data values in specific index location, the items can be modified\n",
    "Hence lists are called mutable.\n",
    "\n",
    "Note: This is contrary to what we can do with strings. Hence strings are called immutable"
   ]
  },
  {
   "cell_type": "code",
   "execution_count": 244,
   "id": "2bfde733",
   "metadata": {},
   "outputs": [
    {
     "name": "stdout",
     "output_type": "stream",
     "text": [
      "Car\n",
      "Ship\n"
     ]
    }
   ],
   "source": [
    "print(l2[3])\n",
    "l2[3] = \"Ship\"\n",
    "print(l2[3])"
   ]
  },
  {
   "cell_type": "raw",
   "id": "7df8b792",
   "metadata": {},
   "source": [
    "Interestingly each of the item in the list can further be manuipulated based on its datatype"
   ]
  },
  {
   "cell_type": "code",
   "execution_count": 245,
   "id": "497345da",
   "metadata": {},
   "outputs": [
    {
     "data": {
      "text/plain": [
       "'elppA'"
      ]
     },
     "execution_count": 245,
     "metadata": {},
     "output_type": "execute_result"
    }
   ],
   "source": [
    "# Example of string reversing of an item in list\n",
    "l2[0][::-1]"
   ]
  },
  {
   "cell_type": "code",
   "execution_count": 246,
   "id": "c4b6fab6",
   "metadata": {},
   "outputs": [
    {
     "data": {
      "text/plain": [
       "64"
      ]
     },
     "execution_count": 246,
     "metadata": {},
     "output_type": "execute_result"
    }
   ],
   "source": [
    "# Example of numeric operation of an item in list\n",
    "l2[-2]-64"
   ]
  },
  {
   "cell_type": "markdown",
   "id": "12666f91",
   "metadata": {},
   "source": [
    "ii) Tuple"
   ]
  },
  {
   "cell_type": "raw",
   "id": "9baefd94",
   "metadata": {},
   "source": [
    "Tuple is also a collectoion of items like list and are usually enclosed in paranthesis\n",
    "One of a key difference is that tuple is immutable or static in nature\n",
    "Hence they occupy less memory and faster to access"
   ]
  },
  {
   "cell_type": "code",
   "execution_count": 247,
   "id": "11e7f7bf",
   "metadata": {},
   "outputs": [
    {
     "data": {
      "text/plain": [
       "tuple"
      ]
     },
     "execution_count": 247,
     "metadata": {},
     "output_type": "execute_result"
    }
   ],
   "source": [
    "#Example of tuple declaration\n",
    "t1 = ('iNeuron', 'student', 'batch', 160)\n",
    "type(t1)"
   ]
  },
  {
   "cell_type": "code",
   "execution_count": 248,
   "id": "b1b86d10",
   "metadata": {},
   "outputs": [
    {
     "name": "stdout",
     "output_type": "stream",
     "text": [
      "('iNeuron', 'student', 'batch', 160)\n"
     ]
    }
   ],
   "source": [
    "print(t1)"
   ]
  },
  {
   "cell_type": "code",
   "execution_count": 250,
   "id": "c5ce5b9e",
   "metadata": {},
   "outputs": [
    {
     "name": "stdout",
     "output_type": "stream",
     "text": [
      "<class 'tuple'>\n"
     ]
    }
   ],
   "source": [
    "# Another way of declaring a tuple without paranthesis\n",
    "\n",
    "t2 = 1,2,3,4,5,6\n",
    "\n",
    "print(type(t2))"
   ]
  },
  {
   "cell_type": "code",
   "execution_count": 251,
   "id": "fc534459",
   "metadata": {},
   "outputs": [
    {
     "name": "stdout",
     "output_type": "stream",
     "text": [
      "<class 'int'>\n"
     ]
    }
   ],
   "source": [
    "# tuple declaration without paranthesis looks very similar in syntax to multilple variable assignment, \n",
    "# But it should be noted the number of varibale and values should match\n",
    "# For example (normal mutiple variabledeclaration and not tuple declaration)\n",
    "\n",
    "t4, t5, t6 = 1,2,3\n",
    "\n",
    "print(type(t4))"
   ]
  },
  {
   "cell_type": "code",
   "execution_count": 252,
   "id": "891b375b",
   "metadata": {},
   "outputs": [
    {
     "name": "stdout",
     "output_type": "stream",
     "text": [
      "<class 'int'>\n",
      "<class 'int'>\n"
     ]
    }
   ],
   "source": [
    "t7 = (1)\n",
    "print(type(t7))\n",
    "\n",
    "t3 = 'terminator'\n",
    "print(type(t6))"
   ]
  },
  {
   "cell_type": "raw",
   "id": "99b7316e",
   "metadata": {},
   "source": [
    "Hence creating tuple with single item is not possible (or atleast not known to me yet)"
   ]
  },
  {
   "cell_type": "markdown",
   "id": "bec2eb8c",
   "metadata": {},
   "source": [
    "# \n",
    "### 4. What is an expression made up of?  What do all expressions do?"
   ]
  },
  {
   "cell_type": "raw",
   "id": "cf9177fd",
   "metadata": {},
   "source": [
    "Expressions consits of variables, operators that python can evaluate into values or plain values or a combination of all of these.\n",
    "\n",
    "It can also be a funcion call or a combination of all"
   ]
  },
  {
   "cell_type": "code",
   "execution_count": 253,
   "id": "fb253b45",
   "metadata": {},
   "outputs": [
    {
     "data": {
      "text/plain": [
       "3.142857142857143"
      ]
     },
     "execution_count": 253,
     "metadata": {},
     "output_type": "execute_result"
    }
   ],
   "source": [
    "#Examples\n",
    "\n",
    "pi = 22/7\n",
    "# this is an arithmetic operation to deduce the value of pi\n",
    "\n",
    "pi"
   ]
  },
  {
   "cell_type": "code",
   "execution_count": 254,
   "id": "25cfc25c",
   "metadata": {},
   "outputs": [
    {
     "data": {
      "text/plain": [
       "31.428571428571427"
      ]
     },
     "execution_count": 254,
     "metadata": {},
     "output_type": "execute_result"
    }
   ],
   "source": [
    "#Examples\n",
    "\n",
    "radius = 5\n",
    "circumference = 2 * pi * radius\n",
    "# this is a expression to calculate a mathematical value\n",
    "\n",
    "circumference"
   ]
  },
  {
   "cell_type": "code",
   "execution_count": 255,
   "id": "d5a62279",
   "metadata": {},
   "outputs": [
    {
     "data": {
      "text/plain": [
       "9"
      ]
     },
     "execution_count": 255,
     "metadata": {},
     "output_type": "execute_result"
    }
   ],
   "source": [
    "#Examples\n",
    "\n",
    "len(\"perimeter\")\n",
    "# this is to evaluate the lenght of the string "
   ]
  },
  {
   "cell_type": "raw",
   "id": "78a2f569",
   "metadata": {},
   "source": [
    "As seen in the above examples, expressions are the right hand part that are evaluated by python interpreter that gives a final value."
   ]
  },
  {
   "cell_type": "markdown",
   "id": "df2a3a05",
   "metadata": {},
   "source": [
    "# \n",
    "### 5. This assignment statements, like spam = 10. What is the difference between an expression and a statement?"
   ]
  },
  {
   "cell_type": "raw",
   "id": "fb715ea2",
   "metadata": {},
   "source": [
    "Simillar to any language spoken between humans, python is also language (aka programming language) made up of statements that can be understood by \"Python interpreter\".\n",
    "\n",
    "In other words statements are any code that python can understand and execute\n",
    "\n",
    "All of the keywords in python in combination with expressions make up a statement\n",
    "\n",
    "In the given example spam = 10, that consists of a variable, an operator and a value make up a meaningful statement that assigns a the value 10 to the variable spam. Hence the name assignment statement\n",
    "\n",
    "where\n",
    "varable is spam\n",
    "operator is = (equal to)\n",
    "value is 10\n",
    "\n"
   ]
  },
  {
   "cell_type": "code",
   "execution_count": 256,
   "id": "60a2b841",
   "metadata": {},
   "outputs": [
    {
     "name": "stdout",
     "output_type": "stream",
     "text": [
      "10.0\n"
     ]
    }
   ],
   "source": [
    "#In the above example the value can be replaced by an expression that will be evaluated by python\n",
    "\n",
    "spam = (100/20)*2\n",
    "print(spam)"
   ]
  },
  {
   "cell_type": "raw",
   "id": "e669d342",
   "metadata": {},
   "source": [
    "In the modified example the right hand side is an expression and the whole line is a statement\n",
    "i.e.\n",
    "(100/20)*2  is an expression\n",
    "spam = (100/20)*2 is a statmemt"
   ]
  },
  {
   "cell_type": "markdown",
   "id": "f4179bc3",
   "metadata": {},
   "source": [
    "# \n",
    "### 6.  After running the following code, what does the variable bacon contain?"
   ]
  },
  {
   "cell_type": "raw",
   "id": "088d4e23",
   "metadata": {},
   "source": [
    "bacon = 22\n",
    "bacon + 1"
   ]
  },
  {
   "cell_type": "raw",
   "id": "2713dffe",
   "metadata": {},
   "source": [
    "After running the code the value of bacon is still 22. The reson the second line is an expresson that python only evaluates. \n",
    "It does not modify the existing value of bacon."
   ]
  },
  {
   "cell_type": "code",
   "execution_count": 257,
   "id": "3195e055",
   "metadata": {},
   "outputs": [
    {
     "data": {
      "text/plain": [
       "23"
      ]
     },
     "execution_count": 257,
     "metadata": {},
     "output_type": "execute_result"
    }
   ],
   "source": [
    "# let's test this\n",
    "\n",
    "bacon = 22\n",
    "bacon + 1"
   ]
  },
  {
   "cell_type": "code",
   "execution_count": 258,
   "id": "64ad6510",
   "metadata": {},
   "outputs": [
    {
     "name": "stdout",
     "output_type": "stream",
     "text": [
      "22\n"
     ]
    }
   ],
   "source": [
    "print(bacon)"
   ]
  },
  {
   "cell_type": "markdown",
   "id": "e849e5f0",
   "metadata": {},
   "source": [
    "# \n",
    "### 7.  What should the values of the following two terms be?"
   ]
  },
  {
   "cell_type": "raw",
   "id": "e3f8471b",
   "metadata": {},
   "source": [
    "'spam' + 'spamspam'\n",
    "'spam' * 3"
   ]
  },
  {
   "cell_type": "raw",
   "id": "f3636229",
   "metadata": {},
   "source": [
    "the value of both of these will be 'spamspamspam'\n",
    "\n",
    "the first one concatenates 'spam' and 'spamspam'\n",
    "the second one concatenates 'spam' three times"
   ]
  },
  {
   "cell_type": "code",
   "execution_count": 259,
   "id": "30a700b3",
   "metadata": {},
   "outputs": [
    {
     "data": {
      "text/plain": [
       "'spamspamspam'"
      ]
     },
     "execution_count": 259,
     "metadata": {},
     "output_type": "execute_result"
    }
   ],
   "source": [
    "# let's test this\n",
    "\n",
    "'spam' + 'spamspam'"
   ]
  },
  {
   "cell_type": "code",
   "execution_count": 260,
   "id": "9f1d876b",
   "metadata": {},
   "outputs": [
    {
     "data": {
      "text/plain": [
       "'spamspamspam'"
      ]
     },
     "execution_count": 260,
     "metadata": {},
     "output_type": "execute_result"
    }
   ],
   "source": [
    "'spam' * 3"
   ]
  },
  {
   "cell_type": "markdown",
   "id": "2453c963",
   "metadata": {},
   "source": [
    "# \n",
    "### 8.  Why is eggs a valid variable name while 100 is invalid"
   ]
  },
  {
   "cell_type": "raw",
   "id": "c01cc58b",
   "metadata": {},
   "source": [
    "By defenition a varibale name in python can be...\n",
    "1. any length \n",
    "2. and can consist of uppercase and lowercase letters (A-Z, a-z) \n",
    "3. and can contain the underscore character (_)\n",
    "4. and can contain digits (0-9)\n",
    "5. with the exception that it cannot begin with a digit\n",
    "\n",
    "Hence by this rule \n",
    "100 is an invalid varibale name\n",
    "Wheras eggs is a valid variable name"
   ]
  },
  {
   "cell_type": "markdown",
   "id": "5ea6812f",
   "metadata": {},
   "source": [
    "# \n",
    "### 9.  What three functions can be used to get the integer, floating-point number, or string version of a value?"
   ]
  },
  {
   "cell_type": "raw",
   "id": "a9311b79",
   "metadata": {},
   "source": [
    "The following 3 functions are called type cast functions which helps to convert a number to string and vice versa (provided the string is in form of a number)\n",
    "\n",
    "int()\n",
    "float()\n",
    "str()"
   ]
  },
  {
   "cell_type": "code",
   "execution_count": 261,
   "id": "3d3e2200",
   "metadata": {},
   "outputs": [
    {
     "name": "stdout",
     "output_type": "stream",
     "text": [
      "123456  is  <class 'str'>\n",
      "123456  is  <class 'int'>\n"
     ]
    }
   ],
   "source": [
    "# for example - string to integer conversion\n",
    "\n",
    "a=\"123456\"\n",
    "print(a, \" is \",type(a))\n",
    "a=int(a)\n",
    "print(a, \" is \",type(a))"
   ]
  },
  {
   "cell_type": "code",
   "execution_count": 262,
   "id": "839dc289",
   "metadata": {},
   "outputs": [
    {
     "name": "stdout",
     "output_type": "stream",
     "text": [
      "99.99  is  <class 'str'>\n",
      "99.99  is  <class 'float'>\n"
     ]
    }
   ],
   "source": [
    "# for example - string to float conversion\n",
    "\n",
    "b=\"99.99\"\n",
    "print(b, \" is \",type(b))\n",
    "b=float(b)\n",
    "print(b, \" is \",type(b))"
   ]
  },
  {
   "cell_type": "code",
   "execution_count": 263,
   "id": "5bb0f827",
   "metadata": {},
   "outputs": [
    {
     "name": "stdout",
     "output_type": "stream",
     "text": [
      "2000  is  <class 'int'>\n",
      "2000  is  <class 'str'>\n"
     ]
    }
   ],
   "source": [
    "# for example - Integer to string conversion\n",
    "\n",
    "d=2000\n",
    "print(d, \" is \",type(d))\n",
    "d=str(d)\n",
    "print(d, \" is \",type(d))"
   ]
  },
  {
   "cell_type": "code",
   "execution_count": 264,
   "id": "f0720b11",
   "metadata": {},
   "outputs": [
    {
     "name": "stdout",
     "output_type": "stream",
     "text": [
      "3.143  is  <class 'float'>\n",
      "3.143  is  <class 'str'>\n"
     ]
    }
   ],
   "source": [
    "# for example - Float to string conversion\n",
    "\n",
    "e=3.143\n",
    "print(e, \" is \",type(e))\n",
    "e=str(e)\n",
    "print(e, \" is \",type(e))"
   ]
  },
  {
   "cell_type": "markdown",
   "id": "6be30ee2",
   "metadata": {},
   "source": [
    "# \n",
    "### 10.  Why does this expression cause an error? How can you fix it?"
   ]
  },
  {
   "cell_type": "raw",
   "id": "cea65d29",
   "metadata": {},
   "source": [
    "'I have eaten ' + 99 + ' burritos.'"
   ]
  },
  {
   "cell_type": "raw",
   "id": "68c39f58",
   "metadata": {},
   "source": [
    "In the given expression, 99 is an integer  while the other 2 operands are strings. \n",
    "we cannot add string to integer  (or) concatenate an integer to string"
   ]
  },
  {
   "cell_type": "code",
   "execution_count": 271,
   "id": "9e33201b",
   "metadata": {},
   "outputs": [
    {
     "ename": "TypeError",
     "evalue": "can only concatenate str (not \"int\") to str",
     "output_type": "error",
     "traceback": [
      "\u001b[1;31m---------------------------------------------------------------------------\u001b[0m",
      "\u001b[1;31mTypeError\u001b[0m                                 Traceback (most recent call last)",
      "\u001b[1;32m~\\AppData\\Local\\Temp/ipykernel_31500/458242453.py\u001b[0m in \u001b[0;36m<module>\u001b[1;34m\u001b[0m\n\u001b[0;32m      1\u001b[0m \u001b[1;31m# lets execute this code as-is with error\u001b[0m\u001b[1;33m\u001b[0m\u001b[1;33m\u001b[0m\u001b[0m\n\u001b[0;32m      2\u001b[0m \u001b[1;33m\u001b[0m\u001b[0m\n\u001b[1;32m----> 3\u001b[1;33m \u001b[1;34m'I have eaten '\u001b[0m \u001b[1;33m+\u001b[0m \u001b[1;36m99\u001b[0m \u001b[1;33m+\u001b[0m \u001b[1;34m' burritos.'\u001b[0m\u001b[1;33m\u001b[0m\u001b[1;33m\u001b[0m\u001b[0m\n\u001b[0m",
      "\u001b[1;31mTypeError\u001b[0m: can only concatenate str (not \"int\") to str"
     ]
    }
   ],
   "source": [
    "# lets execute this code as-is with error\n",
    "\n",
    "'I have eaten ' + 99 + ' burritos.'"
   ]
  },
  {
   "cell_type": "code",
   "execution_count": 272,
   "id": "ec1be3c3",
   "metadata": {},
   "outputs": [],
   "source": [
    "# now lets fix this by using typecasting function and execute"
   ]
  },
  {
   "cell_type": "code",
   "execution_count": 274,
   "id": "47c164d2",
   "metadata": {},
   "outputs": [
    {
     "data": {
      "text/plain": [
       "'I have eaten 99 burritos.'"
      ]
     },
     "execution_count": 274,
     "metadata": {},
     "output_type": "execute_result"
    }
   ],
   "source": [
    "'I have eaten ' + str(99) + ' burritos.'"
   ]
  },
  {
   "cell_type": "markdown",
   "id": "419e566b",
   "metadata": {},
   "source": [
    "###                             *** THANK YOU !!!  ***"
   ]
  }
 ],
 "metadata": {
  "kernelspec": {
   "display_name": "Python 3 (ipykernel)",
   "language": "python",
   "name": "python3"
  },
  "language_info": {
   "codemirror_mode": {
    "name": "ipython",
    "version": 3
   },
   "file_extension": ".py",
   "mimetype": "text/x-python",
   "name": "python",
   "nbconvert_exporter": "python",
   "pygments_lexer": "ipython3",
   "version": "3.9.7"
  }
 },
 "nbformat": 4,
 "nbformat_minor": 5
}
